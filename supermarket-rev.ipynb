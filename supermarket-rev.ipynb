{
 "cells": [
  {
   "cell_type": "code",
   "execution_count": 1,
   "id": "ae37252c",
   "metadata": {
    "_execution_state": "idle",
    "_uuid": "051d70d956493feee0c6d64651c6a088724dca2a",
    "execution": {
     "iopub.execute_input": "2024-02-09T13:05:41.770173Z",
     "iopub.status.busy": "2024-02-09T13:05:41.767538Z",
     "iopub.status.idle": "2024-02-09T13:05:43.115426Z",
     "shell.execute_reply": "2024-02-09T13:05:43.113360Z"
    },
    "papermill": {
     "duration": 1.360304,
     "end_time": "2024-02-09T13:05:43.118271",
     "exception": false,
     "start_time": "2024-02-09T13:05:41.757967",
     "status": "completed"
    },
    "tags": []
   },
   "outputs": [
    {
     "name": "stderr",
     "output_type": "stream",
     "text": [
      "── \u001b[1mAttaching core tidyverse packages\u001b[22m ──────────────────────── tidyverse 2.0.0 ──\n",
      "\u001b[32m✔\u001b[39m \u001b[34mdplyr    \u001b[39m 1.1.2     \u001b[32m✔\u001b[39m \u001b[34mreadr    \u001b[39m 2.1.4\n",
      "\u001b[32m✔\u001b[39m \u001b[34mforcats  \u001b[39m 1.0.0     \u001b[32m✔\u001b[39m \u001b[34mstringr  \u001b[39m 1.5.0\n",
      "\u001b[32m✔\u001b[39m \u001b[34mggplot2  \u001b[39m 3.4.2     \u001b[32m✔\u001b[39m \u001b[34mtibble   \u001b[39m 3.2.1\n",
      "\u001b[32m✔\u001b[39m \u001b[34mlubridate\u001b[39m 1.9.2     \u001b[32m✔\u001b[39m \u001b[34mtidyr    \u001b[39m 1.3.0\n",
      "\u001b[32m✔\u001b[39m \u001b[34mpurrr    \u001b[39m 1.0.1     \n",
      "── \u001b[1mConflicts\u001b[22m ────────────────────────────────────────── tidyverse_conflicts() ──\n",
      "\u001b[31m✖\u001b[39m \u001b[34mdplyr\u001b[39m::\u001b[32mfilter()\u001b[39m masks \u001b[34mstats\u001b[39m::filter()\n",
      "\u001b[31m✖\u001b[39m \u001b[34mdplyr\u001b[39m::\u001b[32mlag()\u001b[39m    masks \u001b[34mstats\u001b[39m::lag()\n",
      "\u001b[36mℹ\u001b[39m Use the conflicted package (\u001b[3m\u001b[34m<http://conflicted.r-lib.org/>\u001b[39m\u001b[23m) to force all conflicts to become errors\n"
     ]
    },
    {
     "data": {
      "text/html": [
       "'supermarket-revenue'"
      ],
      "text/latex": [
       "'supermarket-revenue'"
      ],
      "text/markdown": [
       "'supermarket-revenue'"
      ],
      "text/plain": [
       "[1] \"supermarket-revenue\""
      ]
     },
     "metadata": {},
     "output_type": "display_data"
    }
   ],
   "source": [
    "# This R environment comes with many helpful analytics packages installed\n",
    "# It is defined by the kaggle/rstats Docker image: https://github.com/kaggle/docker-rstats\n",
    "# For example, here's a helpful package to load\n",
    "\n",
    "library(tidyverse) # metapackage of all tidyverse packages\n",
    "\n",
    "# Input data files are available in the read-only \"../input/\" directory\n",
    "# For example, running this (by clicking run or pressing Shift+Enter) will list all files under the input directory\n",
    "\n",
    "list.files(path = \"../input\")\n",
    "\n",
    "# You can write up to 20GB to the current directory (/kaggle/working/) that gets preserved as output when you create a version using \"Save & Run All\" \n",
    "# You can also write temporary files to /kaggle/temp/, but they won't be saved outside of the current session"
   ]
  },
  {
   "cell_type": "code",
   "execution_count": 2,
   "id": "9d329f64",
   "metadata": {
    "execution": {
     "iopub.execute_input": "2024-02-09T13:05:43.168545Z",
     "iopub.status.busy": "2024-02-09T13:05:43.133744Z",
     "iopub.status.idle": "2024-02-09T13:05:43.490146Z",
     "shell.execute_reply": "2024-02-09T13:05:43.487384Z"
    },
    "papermill": {
     "duration": 0.368218,
     "end_time": "2024-02-09T13:05:43.493107",
     "exception": false,
     "start_time": "2024-02-09T13:05:43.124889",
     "status": "completed"
    },
    "tags": []
   },
   "outputs": [
    {
     "name": "stderr",
     "output_type": "stream",
     "text": [
      "\u001b[1mRows: \u001b[22m\u001b[34m1000\u001b[39m \u001b[1mColumns: \u001b[22m\u001b[34m17\u001b[39m\n",
      "\u001b[36m──\u001b[39m \u001b[1mColumn specification\u001b[22m \u001b[36m────────────────────────────────────────────────────────\u001b[39m\n",
      "\u001b[1mDelimiter:\u001b[22m \",\"\n",
      "\u001b[31mchr\u001b[39m  (8): Invoice ID, Branch, City, Customer type, Gender, Product line, Dat...\n",
      "\u001b[32mdbl\u001b[39m  (8): Unit price, Quantity, Tax 5%, Revenue, Cost of Goods Sold, gross m...\n",
      "\u001b[34mtime\u001b[39m (1): Time\n",
      "\n",
      "\u001b[36mℹ\u001b[39m Use `spec()` to retrieve the full column specification for this data.\n",
      "\u001b[36mℹ\u001b[39m Specify the column types or set `show_col_types = FALSE` to quiet this message.\n"
     ]
    }
   ],
   "source": [
    "Super<-read_csv('/kaggle/input/supermarket-revenue/supermarket_sales -1.csv')"
   ]
  },
  {
   "cell_type": "code",
   "execution_count": 3,
   "id": "1a47fe1d",
   "metadata": {
    "execution": {
     "iopub.execute_input": "2024-02-09T13:05:43.510879Z",
     "iopub.status.busy": "2024-02-09T13:05:43.509017Z",
     "iopub.status.idle": "2024-02-09T13:05:43.595737Z",
     "shell.execute_reply": "2024-02-09T13:05:43.593825Z"
    },
    "papermill": {
     "duration": 0.098934,
     "end_time": "2024-02-09T13:05:43.598695",
     "exception": false,
     "start_time": "2024-02-09T13:05:43.499761",
     "status": "completed"
    },
    "tags": []
   },
   "outputs": [
    {
     "data": {
      "text/html": [
       "<table class=\"dataframe\">\n",
       "<caption>A tibble: 20 × 17</caption>\n",
       "<thead>\n",
       "\t<tr><th scope=col>Invoice ID</th><th scope=col>Branch</th><th scope=col>City</th><th scope=col>Customer type</th><th scope=col>Gender</th><th scope=col>Product line</th><th scope=col>Unit price</th><th scope=col>Quantity</th><th scope=col>Tax 5%</th><th scope=col>Revenue</th><th scope=col>Date</th><th scope=col>Time</th><th scope=col>Payment Method</th><th scope=col>Cost of Goods Sold</th><th scope=col>gross margin percentage</th><th scope=col>Gross Profit</th><th scope=col>Rating</th></tr>\n",
       "\t<tr><th scope=col>&lt;chr&gt;</th><th scope=col>&lt;chr&gt;</th><th scope=col>&lt;chr&gt;</th><th scope=col>&lt;chr&gt;</th><th scope=col>&lt;chr&gt;</th><th scope=col>&lt;chr&gt;</th><th scope=col>&lt;dbl&gt;</th><th scope=col>&lt;dbl&gt;</th><th scope=col>&lt;dbl&gt;</th><th scope=col>&lt;dbl&gt;</th><th scope=col>&lt;chr&gt;</th><th scope=col>&lt;time&gt;</th><th scope=col>&lt;chr&gt;</th><th scope=col>&lt;dbl&gt;</th><th scope=col>&lt;dbl&gt;</th><th scope=col>&lt;dbl&gt;</th><th scope=col>&lt;dbl&gt;</th></tr>\n",
       "</thead>\n",
       "<tbody>\n",
       "\t<tr><td>750-67-8428</td><td>A</td><td>Yangon   </td><td>Member</td><td>Female</td><td>Health and beauty     </td><td>74.69</td><td> 7</td><td>26.1415</td><td>548.9715</td><td>1/5/2019 </td><td>13:08:00</td><td>Ewallet    </td><td>522.83</td><td>4.761905</td><td>26.1415</td><td>9.1</td></tr>\n",
       "\t<tr><td>226-31-3081</td><td>C</td><td>Naypyitaw</td><td>Normal</td><td>Female</td><td>Electronic accessories</td><td>15.28</td><td> 5</td><td> 3.8200</td><td> 80.2200</td><td>3/8/2019 </td><td>10:29:00</td><td>Cash       </td><td> 76.40</td><td>4.761905</td><td> 3.8200</td><td>9.6</td></tr>\n",
       "\t<tr><td>631-41-3108</td><td>A</td><td>Yangon   </td><td>Normal</td><td>Male  </td><td>Home and lifestyle    </td><td>46.33</td><td> 7</td><td>16.2155</td><td>340.5255</td><td>3/3/2019 </td><td>13:23:00</td><td>Credit card</td><td>324.31</td><td>4.761905</td><td>16.2155</td><td>7.4</td></tr>\n",
       "\t<tr><td>123-19-1176</td><td>A</td><td>Yangon   </td><td>Member</td><td>Male  </td><td>Health and beauty     </td><td>58.22</td><td> 8</td><td>23.2880</td><td>489.0480</td><td>1/27/2019</td><td>20:33:00</td><td>Ewallet    </td><td>465.76</td><td>4.761905</td><td>23.2880</td><td>8.4</td></tr>\n",
       "\t<tr><td>373-73-7910</td><td>A</td><td>Yangon   </td><td>Normal</td><td>Male  </td><td>Sports and travel     </td><td>86.31</td><td> 7</td><td>30.2085</td><td>634.3785</td><td>2/8/2019 </td><td>10:37:00</td><td>Ewallet    </td><td>604.17</td><td>4.761905</td><td>30.2085</td><td>5.3</td></tr>\n",
       "\t<tr><td>699-14-3026</td><td>C</td><td>Naypyitaw</td><td>Normal</td><td>Male  </td><td>Electronic accessories</td><td>85.39</td><td> 7</td><td>29.8865</td><td>627.6165</td><td>3/25/2019</td><td>18:30:00</td><td>Ewallet    </td><td>597.73</td><td>4.761905</td><td>29.8865</td><td>4.1</td></tr>\n",
       "\t<tr><td>355-53-5943</td><td>A</td><td>Yangon   </td><td>Member</td><td>Female</td><td>Electronic accessories</td><td>68.84</td><td> 6</td><td>20.6520</td><td>433.6920</td><td>2/25/2019</td><td>14:36:00</td><td>Ewallet    </td><td>413.04</td><td>4.761905</td><td>20.6520</td><td>5.8</td></tr>\n",
       "\t<tr><td>315-22-5665</td><td>C</td><td>Naypyitaw</td><td>Normal</td><td>Female</td><td>Home and lifestyle    </td><td>73.56</td><td>10</td><td>36.7800</td><td>772.3800</td><td>2/24/2019</td><td>11:38:00</td><td>Ewallet    </td><td>735.60</td><td>4.761905</td><td>36.7800</td><td>8.0</td></tr>\n",
       "\t<tr><td>665-32-9167</td><td>A</td><td>Yangon   </td><td>Member</td><td>Female</td><td>Health and beauty     </td><td>36.26</td><td> 2</td><td> 3.6260</td><td> 76.1460</td><td>1/10/2019</td><td>17:15:00</td><td>Credit card</td><td> 72.52</td><td>4.761905</td><td> 3.6260</td><td>7.2</td></tr>\n",
       "\t<tr><td>692-92-5582</td><td>B</td><td>Mandalay </td><td>Member</td><td>Female</td><td>Food and beverages    </td><td>54.84</td><td> 3</td><td> 8.2260</td><td>172.7460</td><td>2/20/2019</td><td>13:27:00</td><td>Credit card</td><td>164.52</td><td>4.761905</td><td> 8.2260</td><td>5.9</td></tr>\n",
       "\t<tr><td>351-62-0822</td><td>B</td><td>Mandalay </td><td>Member</td><td>Female</td><td>Fashion accessories   </td><td>14.48</td><td> 4</td><td> 2.8960</td><td> 60.8160</td><td>2/6/2019 </td><td>18:07:00</td><td>Ewallet    </td><td> 57.92</td><td>4.761905</td><td> 2.8960</td><td>4.5</td></tr>\n",
       "\t<tr><td>529-56-3974</td><td>B</td><td>Mandalay </td><td>Member</td><td>Male  </td><td>Electronic accessories</td><td>25.51</td><td> 4</td><td> 5.1020</td><td>107.1420</td><td>3/9/2019 </td><td>17:03:00</td><td>Cash       </td><td>102.04</td><td>4.761905</td><td> 5.1020</td><td>6.8</td></tr>\n",
       "\t<tr><td>365-64-0515</td><td>A</td><td>Yangon   </td><td>Normal</td><td>Female</td><td>Electronic accessories</td><td>46.95</td><td> 5</td><td>11.7375</td><td>246.4875</td><td>2/12/2019</td><td>10:25:00</td><td>Ewallet    </td><td>234.75</td><td>4.761905</td><td>11.7375</td><td>7.1</td></tr>\n",
       "\t<tr><td>252-56-2699</td><td>A</td><td>Yangon   </td><td>Normal</td><td>Male  </td><td>Food and beverages    </td><td>43.19</td><td>10</td><td>21.5950</td><td>453.4950</td><td>2/7/2019 </td><td>16:48:00</td><td>Ewallet    </td><td>431.90</td><td>4.761905</td><td>21.5950</td><td>8.2</td></tr>\n",
       "\t<tr><td>829-34-3910</td><td>A</td><td>Yangon   </td><td>Normal</td><td>Female</td><td>Health and beauty     </td><td>71.38</td><td>10</td><td>35.6900</td><td>749.4900</td><td>3/29/2019</td><td>19:21:00</td><td>Cash       </td><td>713.80</td><td>4.761905</td><td>35.6900</td><td>5.7</td></tr>\n",
       "\t<tr><td>299-46-1805</td><td>B</td><td>Mandalay </td><td>Member</td><td>Female</td><td>Sports and travel     </td><td>93.72</td><td> 6</td><td>28.1160</td><td>590.4360</td><td>1/15/2019</td><td>16:19:00</td><td>Cash       </td><td>562.32</td><td>4.761905</td><td>28.1160</td><td>4.5</td></tr>\n",
       "\t<tr><td>656-95-9349</td><td>A</td><td>Yangon   </td><td>Member</td><td>Female</td><td>Health and beauty     </td><td>68.93</td><td> 7</td><td>24.1255</td><td>506.6355</td><td>3/11/2019</td><td>11:03:00</td><td>Credit card</td><td>482.51</td><td>4.761905</td><td>24.1255</td><td>4.6</td></tr>\n",
       "\t<tr><td>765-26-6951</td><td>A</td><td>Yangon   </td><td>Normal</td><td>Male  </td><td>Sports and travel     </td><td>72.61</td><td> 6</td><td>21.7830</td><td>457.4430</td><td>1/1/2019 </td><td>10:39:00</td><td>Credit card</td><td>435.66</td><td>4.761905</td><td>21.7830</td><td>6.9</td></tr>\n",
       "\t<tr><td>329-62-1586</td><td>A</td><td>Yangon   </td><td>Normal</td><td>Male  </td><td>Food and beverages    </td><td>54.67</td><td> 3</td><td> 8.2005</td><td>172.2105</td><td>1/21/2019</td><td>18:00:00</td><td>Credit card</td><td>164.01</td><td>4.761905</td><td> 8.2005</td><td>8.6</td></tr>\n",
       "\t<tr><td>319-50-3348</td><td>B</td><td>Mandalay </td><td>Normal</td><td>Female</td><td>Home and lifestyle    </td><td>40.30</td><td> 2</td><td> 4.0300</td><td> 84.6300</td><td>3/11/2019</td><td>15:30:00</td><td>Ewallet    </td><td> 80.60</td><td>4.761905</td><td> 4.0300</td><td>4.4</td></tr>\n",
       "</tbody>\n",
       "</table>\n"
      ],
      "text/latex": [
       "A tibble: 20 × 17\n",
       "\\begin{tabular}{lllllllllllllllll}\n",
       " Invoice ID & Branch & City & Customer type & Gender & Product line & Unit price & Quantity & Tax 5\\% & Revenue & Date & Time & Payment Method & Cost of Goods Sold & gross margin percentage & Gross Profit & Rating\\\\\n",
       " <chr> & <chr> & <chr> & <chr> & <chr> & <chr> & <dbl> & <dbl> & <dbl> & <dbl> & <chr> & <time> & <chr> & <dbl> & <dbl> & <dbl> & <dbl>\\\\\n",
       "\\hline\n",
       "\t 750-67-8428 & A & Yangon    & Member & Female & Health and beauty      & 74.69 &  7 & 26.1415 & 548.9715 & 1/5/2019  & 13:08:00 & Ewallet     & 522.83 & 4.761905 & 26.1415 & 9.1\\\\\n",
       "\t 226-31-3081 & C & Naypyitaw & Normal & Female & Electronic accessories & 15.28 &  5 &  3.8200 &  80.2200 & 3/8/2019  & 10:29:00 & Cash        &  76.40 & 4.761905 &  3.8200 & 9.6\\\\\n",
       "\t 631-41-3108 & A & Yangon    & Normal & Male   & Home and lifestyle     & 46.33 &  7 & 16.2155 & 340.5255 & 3/3/2019  & 13:23:00 & Credit card & 324.31 & 4.761905 & 16.2155 & 7.4\\\\\n",
       "\t 123-19-1176 & A & Yangon    & Member & Male   & Health and beauty      & 58.22 &  8 & 23.2880 & 489.0480 & 1/27/2019 & 20:33:00 & Ewallet     & 465.76 & 4.761905 & 23.2880 & 8.4\\\\\n",
       "\t 373-73-7910 & A & Yangon    & Normal & Male   & Sports and travel      & 86.31 &  7 & 30.2085 & 634.3785 & 2/8/2019  & 10:37:00 & Ewallet     & 604.17 & 4.761905 & 30.2085 & 5.3\\\\\n",
       "\t 699-14-3026 & C & Naypyitaw & Normal & Male   & Electronic accessories & 85.39 &  7 & 29.8865 & 627.6165 & 3/25/2019 & 18:30:00 & Ewallet     & 597.73 & 4.761905 & 29.8865 & 4.1\\\\\n",
       "\t 355-53-5943 & A & Yangon    & Member & Female & Electronic accessories & 68.84 &  6 & 20.6520 & 433.6920 & 2/25/2019 & 14:36:00 & Ewallet     & 413.04 & 4.761905 & 20.6520 & 5.8\\\\\n",
       "\t 315-22-5665 & C & Naypyitaw & Normal & Female & Home and lifestyle     & 73.56 & 10 & 36.7800 & 772.3800 & 2/24/2019 & 11:38:00 & Ewallet     & 735.60 & 4.761905 & 36.7800 & 8.0\\\\\n",
       "\t 665-32-9167 & A & Yangon    & Member & Female & Health and beauty      & 36.26 &  2 &  3.6260 &  76.1460 & 1/10/2019 & 17:15:00 & Credit card &  72.52 & 4.761905 &  3.6260 & 7.2\\\\\n",
       "\t 692-92-5582 & B & Mandalay  & Member & Female & Food and beverages     & 54.84 &  3 &  8.2260 & 172.7460 & 2/20/2019 & 13:27:00 & Credit card & 164.52 & 4.761905 &  8.2260 & 5.9\\\\\n",
       "\t 351-62-0822 & B & Mandalay  & Member & Female & Fashion accessories    & 14.48 &  4 &  2.8960 &  60.8160 & 2/6/2019  & 18:07:00 & Ewallet     &  57.92 & 4.761905 &  2.8960 & 4.5\\\\\n",
       "\t 529-56-3974 & B & Mandalay  & Member & Male   & Electronic accessories & 25.51 &  4 &  5.1020 & 107.1420 & 3/9/2019  & 17:03:00 & Cash        & 102.04 & 4.761905 &  5.1020 & 6.8\\\\\n",
       "\t 365-64-0515 & A & Yangon    & Normal & Female & Electronic accessories & 46.95 &  5 & 11.7375 & 246.4875 & 2/12/2019 & 10:25:00 & Ewallet     & 234.75 & 4.761905 & 11.7375 & 7.1\\\\\n",
       "\t 252-56-2699 & A & Yangon    & Normal & Male   & Food and beverages     & 43.19 & 10 & 21.5950 & 453.4950 & 2/7/2019  & 16:48:00 & Ewallet     & 431.90 & 4.761905 & 21.5950 & 8.2\\\\\n",
       "\t 829-34-3910 & A & Yangon    & Normal & Female & Health and beauty      & 71.38 & 10 & 35.6900 & 749.4900 & 3/29/2019 & 19:21:00 & Cash        & 713.80 & 4.761905 & 35.6900 & 5.7\\\\\n",
       "\t 299-46-1805 & B & Mandalay  & Member & Female & Sports and travel      & 93.72 &  6 & 28.1160 & 590.4360 & 1/15/2019 & 16:19:00 & Cash        & 562.32 & 4.761905 & 28.1160 & 4.5\\\\\n",
       "\t 656-95-9349 & A & Yangon    & Member & Female & Health and beauty      & 68.93 &  7 & 24.1255 & 506.6355 & 3/11/2019 & 11:03:00 & Credit card & 482.51 & 4.761905 & 24.1255 & 4.6\\\\\n",
       "\t 765-26-6951 & A & Yangon    & Normal & Male   & Sports and travel      & 72.61 &  6 & 21.7830 & 457.4430 & 1/1/2019  & 10:39:00 & Credit card & 435.66 & 4.761905 & 21.7830 & 6.9\\\\\n",
       "\t 329-62-1586 & A & Yangon    & Normal & Male   & Food and beverages     & 54.67 &  3 &  8.2005 & 172.2105 & 1/21/2019 & 18:00:00 & Credit card & 164.01 & 4.761905 &  8.2005 & 8.6\\\\\n",
       "\t 319-50-3348 & B & Mandalay  & Normal & Female & Home and lifestyle     & 40.30 &  2 &  4.0300 &  84.6300 & 3/11/2019 & 15:30:00 & Ewallet     &  80.60 & 4.761905 &  4.0300 & 4.4\\\\\n",
       "\\end{tabular}\n"
      ],
      "text/markdown": [
       "\n",
       "A tibble: 20 × 17\n",
       "\n",
       "| Invoice ID &lt;chr&gt; | Branch &lt;chr&gt; | City &lt;chr&gt; | Customer type &lt;chr&gt; | Gender &lt;chr&gt; | Product line &lt;chr&gt; | Unit price &lt;dbl&gt; | Quantity &lt;dbl&gt; | Tax 5% &lt;dbl&gt; | Revenue &lt;dbl&gt; | Date &lt;chr&gt; | Time &lt;time&gt; | Payment Method &lt;chr&gt; | Cost of Goods Sold &lt;dbl&gt; | gross margin percentage &lt;dbl&gt; | Gross Profit &lt;dbl&gt; | Rating &lt;dbl&gt; |\n",
       "|---|---|---|---|---|---|---|---|---|---|---|---|---|---|---|---|---|\n",
       "| 750-67-8428 | A | Yangon    | Member | Female | Health and beauty      | 74.69 |  7 | 26.1415 | 548.9715 | 1/5/2019  | 13:08:00 | Ewallet     | 522.83 | 4.761905 | 26.1415 | 9.1 |\n",
       "| 226-31-3081 | C | Naypyitaw | Normal | Female | Electronic accessories | 15.28 |  5 |  3.8200 |  80.2200 | 3/8/2019  | 10:29:00 | Cash        |  76.40 | 4.761905 |  3.8200 | 9.6 |\n",
       "| 631-41-3108 | A | Yangon    | Normal | Male   | Home and lifestyle     | 46.33 |  7 | 16.2155 | 340.5255 | 3/3/2019  | 13:23:00 | Credit card | 324.31 | 4.761905 | 16.2155 | 7.4 |\n",
       "| 123-19-1176 | A | Yangon    | Member | Male   | Health and beauty      | 58.22 |  8 | 23.2880 | 489.0480 | 1/27/2019 | 20:33:00 | Ewallet     | 465.76 | 4.761905 | 23.2880 | 8.4 |\n",
       "| 373-73-7910 | A | Yangon    | Normal | Male   | Sports and travel      | 86.31 |  7 | 30.2085 | 634.3785 | 2/8/2019  | 10:37:00 | Ewallet     | 604.17 | 4.761905 | 30.2085 | 5.3 |\n",
       "| 699-14-3026 | C | Naypyitaw | Normal | Male   | Electronic accessories | 85.39 |  7 | 29.8865 | 627.6165 | 3/25/2019 | 18:30:00 | Ewallet     | 597.73 | 4.761905 | 29.8865 | 4.1 |\n",
       "| 355-53-5943 | A | Yangon    | Member | Female | Electronic accessories | 68.84 |  6 | 20.6520 | 433.6920 | 2/25/2019 | 14:36:00 | Ewallet     | 413.04 | 4.761905 | 20.6520 | 5.8 |\n",
       "| 315-22-5665 | C | Naypyitaw | Normal | Female | Home and lifestyle     | 73.56 | 10 | 36.7800 | 772.3800 | 2/24/2019 | 11:38:00 | Ewallet     | 735.60 | 4.761905 | 36.7800 | 8.0 |\n",
       "| 665-32-9167 | A | Yangon    | Member | Female | Health and beauty      | 36.26 |  2 |  3.6260 |  76.1460 | 1/10/2019 | 17:15:00 | Credit card |  72.52 | 4.761905 |  3.6260 | 7.2 |\n",
       "| 692-92-5582 | B | Mandalay  | Member | Female | Food and beverages     | 54.84 |  3 |  8.2260 | 172.7460 | 2/20/2019 | 13:27:00 | Credit card | 164.52 | 4.761905 |  8.2260 | 5.9 |\n",
       "| 351-62-0822 | B | Mandalay  | Member | Female | Fashion accessories    | 14.48 |  4 |  2.8960 |  60.8160 | 2/6/2019  | 18:07:00 | Ewallet     |  57.92 | 4.761905 |  2.8960 | 4.5 |\n",
       "| 529-56-3974 | B | Mandalay  | Member | Male   | Electronic accessories | 25.51 |  4 |  5.1020 | 107.1420 | 3/9/2019  | 17:03:00 | Cash        | 102.04 | 4.761905 |  5.1020 | 6.8 |\n",
       "| 365-64-0515 | A | Yangon    | Normal | Female | Electronic accessories | 46.95 |  5 | 11.7375 | 246.4875 | 2/12/2019 | 10:25:00 | Ewallet     | 234.75 | 4.761905 | 11.7375 | 7.1 |\n",
       "| 252-56-2699 | A | Yangon    | Normal | Male   | Food and beverages     | 43.19 | 10 | 21.5950 | 453.4950 | 2/7/2019  | 16:48:00 | Ewallet     | 431.90 | 4.761905 | 21.5950 | 8.2 |\n",
       "| 829-34-3910 | A | Yangon    | Normal | Female | Health and beauty      | 71.38 | 10 | 35.6900 | 749.4900 | 3/29/2019 | 19:21:00 | Cash        | 713.80 | 4.761905 | 35.6900 | 5.7 |\n",
       "| 299-46-1805 | B | Mandalay  | Member | Female | Sports and travel      | 93.72 |  6 | 28.1160 | 590.4360 | 1/15/2019 | 16:19:00 | Cash        | 562.32 | 4.761905 | 28.1160 | 4.5 |\n",
       "| 656-95-9349 | A | Yangon    | Member | Female | Health and beauty      | 68.93 |  7 | 24.1255 | 506.6355 | 3/11/2019 | 11:03:00 | Credit card | 482.51 | 4.761905 | 24.1255 | 4.6 |\n",
       "| 765-26-6951 | A | Yangon    | Normal | Male   | Sports and travel      | 72.61 |  6 | 21.7830 | 457.4430 | 1/1/2019  | 10:39:00 | Credit card | 435.66 | 4.761905 | 21.7830 | 6.9 |\n",
       "| 329-62-1586 | A | Yangon    | Normal | Male   | Food and beverages     | 54.67 |  3 |  8.2005 | 172.2105 | 1/21/2019 | 18:00:00 | Credit card | 164.01 | 4.761905 |  8.2005 | 8.6 |\n",
       "| 319-50-3348 | B | Mandalay  | Normal | Female | Home and lifestyle     | 40.30 |  2 |  4.0300 |  84.6300 | 3/11/2019 | 15:30:00 | Ewallet     |  80.60 | 4.761905 |  4.0300 | 4.4 |\n",
       "\n"
      ],
      "text/plain": [
       "   Invoice ID  Branch City      Customer type Gender Product line          \n",
       "1  750-67-8428 A      Yangon    Member        Female Health and beauty     \n",
       "2  226-31-3081 C      Naypyitaw Normal        Female Electronic accessories\n",
       "3  631-41-3108 A      Yangon    Normal        Male   Home and lifestyle    \n",
       "4  123-19-1176 A      Yangon    Member        Male   Health and beauty     \n",
       "5  373-73-7910 A      Yangon    Normal        Male   Sports and travel     \n",
       "6  699-14-3026 C      Naypyitaw Normal        Male   Electronic accessories\n",
       "7  355-53-5943 A      Yangon    Member        Female Electronic accessories\n",
       "8  315-22-5665 C      Naypyitaw Normal        Female Home and lifestyle    \n",
       "9  665-32-9167 A      Yangon    Member        Female Health and beauty     \n",
       "10 692-92-5582 B      Mandalay  Member        Female Food and beverages    \n",
       "11 351-62-0822 B      Mandalay  Member        Female Fashion accessories   \n",
       "12 529-56-3974 B      Mandalay  Member        Male   Electronic accessories\n",
       "13 365-64-0515 A      Yangon    Normal        Female Electronic accessories\n",
       "14 252-56-2699 A      Yangon    Normal        Male   Food and beverages    \n",
       "15 829-34-3910 A      Yangon    Normal        Female Health and beauty     \n",
       "16 299-46-1805 B      Mandalay  Member        Female Sports and travel     \n",
       "17 656-95-9349 A      Yangon    Member        Female Health and beauty     \n",
       "18 765-26-6951 A      Yangon    Normal        Male   Sports and travel     \n",
       "19 329-62-1586 A      Yangon    Normal        Male   Food and beverages    \n",
       "20 319-50-3348 B      Mandalay  Normal        Female Home and lifestyle    \n",
       "   Unit price Quantity Tax 5%  Revenue  Date      Time     Payment Method\n",
       "1  74.69       7       26.1415 548.9715 1/5/2019  13:08:00 Ewallet       \n",
       "2  15.28       5        3.8200  80.2200 3/8/2019  10:29:00 Cash          \n",
       "3  46.33       7       16.2155 340.5255 3/3/2019  13:23:00 Credit card   \n",
       "4  58.22       8       23.2880 489.0480 1/27/2019 20:33:00 Ewallet       \n",
       "5  86.31       7       30.2085 634.3785 2/8/2019  10:37:00 Ewallet       \n",
       "6  85.39       7       29.8865 627.6165 3/25/2019 18:30:00 Ewallet       \n",
       "7  68.84       6       20.6520 433.6920 2/25/2019 14:36:00 Ewallet       \n",
       "8  73.56      10       36.7800 772.3800 2/24/2019 11:38:00 Ewallet       \n",
       "9  36.26       2        3.6260  76.1460 1/10/2019 17:15:00 Credit card   \n",
       "10 54.84       3        8.2260 172.7460 2/20/2019 13:27:00 Credit card   \n",
       "11 14.48       4        2.8960  60.8160 2/6/2019  18:07:00 Ewallet       \n",
       "12 25.51       4        5.1020 107.1420 3/9/2019  17:03:00 Cash          \n",
       "13 46.95       5       11.7375 246.4875 2/12/2019 10:25:00 Ewallet       \n",
       "14 43.19      10       21.5950 453.4950 2/7/2019  16:48:00 Ewallet       \n",
       "15 71.38      10       35.6900 749.4900 3/29/2019 19:21:00 Cash          \n",
       "16 93.72       6       28.1160 590.4360 1/15/2019 16:19:00 Cash          \n",
       "17 68.93       7       24.1255 506.6355 3/11/2019 11:03:00 Credit card   \n",
       "18 72.61       6       21.7830 457.4430 1/1/2019  10:39:00 Credit card   \n",
       "19 54.67       3        8.2005 172.2105 1/21/2019 18:00:00 Credit card   \n",
       "20 40.30       2        4.0300  84.6300 3/11/2019 15:30:00 Ewallet       \n",
       "   Cost of Goods Sold gross margin percentage Gross Profit Rating\n",
       "1  522.83             4.761905                26.1415      9.1   \n",
       "2   76.40             4.761905                 3.8200      9.6   \n",
       "3  324.31             4.761905                16.2155      7.4   \n",
       "4  465.76             4.761905                23.2880      8.4   \n",
       "5  604.17             4.761905                30.2085      5.3   \n",
       "6  597.73             4.761905                29.8865      4.1   \n",
       "7  413.04             4.761905                20.6520      5.8   \n",
       "8  735.60             4.761905                36.7800      8.0   \n",
       "9   72.52             4.761905                 3.6260      7.2   \n",
       "10 164.52             4.761905                 8.2260      5.9   \n",
       "11  57.92             4.761905                 2.8960      4.5   \n",
       "12 102.04             4.761905                 5.1020      6.8   \n",
       "13 234.75             4.761905                11.7375      7.1   \n",
       "14 431.90             4.761905                21.5950      8.2   \n",
       "15 713.80             4.761905                35.6900      5.7   \n",
       "16 562.32             4.761905                28.1160      4.5   \n",
       "17 482.51             4.761905                24.1255      4.6   \n",
       "18 435.66             4.761905                21.7830      6.9   \n",
       "19 164.01             4.761905                 8.2005      8.6   \n",
       "20  80.60             4.761905                 4.0300      4.4   "
      ]
     },
     "metadata": {},
     "output_type": "display_data"
    }
   ],
   "source": [
    "head(Super, 20)"
   ]
  },
  {
   "cell_type": "markdown",
   "id": "e11ddcc1",
   "metadata": {
    "papermill": {
     "duration": 0.007988,
     "end_time": "2024-02-09T13:05:43.614221",
     "exception": false,
     "start_time": "2024-02-09T13:05:43.606233",
     "status": "completed"
    },
    "tags": []
   },
   "source": [
    "**Key Points:** **Revenue,Total_quantity and Profit**"
   ]
  },
  {
   "cell_type": "code",
   "execution_count": 4,
   "id": "dc043765",
   "metadata": {
    "execution": {
     "iopub.execute_input": "2024-02-09T13:05:43.661572Z",
     "iopub.status.busy": "2024-02-09T13:05:43.632167Z",
     "iopub.status.idle": "2024-02-09T13:05:43.703584Z",
     "shell.execute_reply": "2024-02-09T13:05:43.701648Z"
    },
    "papermill": {
     "duration": 0.084946,
     "end_time": "2024-02-09T13:05:43.706773",
     "exception": false,
     "start_time": "2024-02-09T13:05:43.621827",
     "status": "completed"
    },
    "tags": []
   },
   "outputs": [
    {
     "data": {
      "text/html": [
       "<table class=\"dataframe\">\n",
       "<caption>A tibble: 1 × 3</caption>\n",
       "<thead>\n",
       "\t<tr><th scope=col>Revenue</th><th scope=col>Total_quantity</th><th scope=col>Profit</th></tr>\n",
       "\t<tr><th scope=col>&lt;dbl&gt;</th><th scope=col>&lt;dbl&gt;</th><th scope=col>&lt;dbl&gt;</th></tr>\n",
       "</thead>\n",
       "<tbody>\n",
       "\t<tr><td>322966.7</td><td>5510</td><td>15379.37</td></tr>\n",
       "</tbody>\n",
       "</table>\n"
      ],
      "text/latex": [
       "A tibble: 1 × 3\n",
       "\\begin{tabular}{lll}\n",
       " Revenue & Total\\_quantity & Profit\\\\\n",
       " <dbl> & <dbl> & <dbl>\\\\\n",
       "\\hline\n",
       "\t 322966.7 & 5510 & 15379.37\\\\\n",
       "\\end{tabular}\n"
      ],
      "text/markdown": [
       "\n",
       "A tibble: 1 × 3\n",
       "\n",
       "| Revenue &lt;dbl&gt; | Total_quantity &lt;dbl&gt; | Profit &lt;dbl&gt; |\n",
       "|---|---|---|\n",
       "| 322966.7 | 5510 | 15379.37 |\n",
       "\n"
      ],
      "text/plain": [
       "  Revenue  Total_quantity Profit  \n",
       "1 322966.7 5510           15379.37"
      ]
     },
     "metadata": {},
     "output_type": "display_data"
    }
   ],
   "source": [
    "key_points<-Super%>%\n",
    "summarise(Revenue= sum(Revenue), Total_quantity= sum(Quantity), Profit=sum(`Gross Profit`))\n",
    "View(key_points)"
   ]
  },
  {
   "cell_type": "markdown",
   "id": "88189e02",
   "metadata": {
    "papermill": {
     "duration": 0.009655,
     "end_time": "2024-02-09T13:05:43.723999",
     "exception": false,
     "start_time": "2024-02-09T13:05:43.714344",
     "status": "completed"
    },
    "tags": []
   },
   "source": [
    "**Revenue and Profit By Branch**\n",
    "Branch C generated the highest revenue and Profit"
   ]
  },
  {
   "cell_type": "code",
   "execution_count": 5,
   "id": "2882633c",
   "metadata": {
    "execution": {
     "iopub.execute_input": "2024-02-09T13:05:43.743958Z",
     "iopub.status.busy": "2024-02-09T13:05:43.742155Z",
     "iopub.status.idle": "2024-02-09T13:05:43.799108Z",
     "shell.execute_reply": "2024-02-09T13:05:43.796770Z"
    },
    "papermill": {
     "duration": 0.07094,
     "end_time": "2024-02-09T13:05:43.802527",
     "exception": false,
     "start_time": "2024-02-09T13:05:43.731587",
     "status": "completed"
    },
    "tags": []
   },
   "outputs": [
    {
     "data": {
      "text/html": [
       "<table class=\"dataframe\">\n",
       "<caption>A tibble: 3 × 3</caption>\n",
       "<thead>\n",
       "\t<tr><th scope=col>Branch</th><th scope=col>Revenue</th><th scope=col>Profit</th></tr>\n",
       "\t<tr><th scope=col>&lt;chr&gt;</th><th scope=col>&lt;dbl&gt;</th><th scope=col>&lt;dbl&gt;</th></tr>\n",
       "</thead>\n",
       "<tbody>\n",
       "\t<tr><td>C</td><td>110568.7</td><td>5265.176</td></tr>\n",
       "\t<tr><td>A</td><td>106200.4</td><td>5057.160</td></tr>\n",
       "\t<tr><td>B</td><td>106197.7</td><td>5057.032</td></tr>\n",
       "</tbody>\n",
       "</table>\n"
      ],
      "text/latex": [
       "A tibble: 3 × 3\n",
       "\\begin{tabular}{lll}\n",
       " Branch & Revenue & Profit\\\\\n",
       " <chr> & <dbl> & <dbl>\\\\\n",
       "\\hline\n",
       "\t C & 110568.7 & 5265.176\\\\\n",
       "\t A & 106200.4 & 5057.160\\\\\n",
       "\t B & 106197.7 & 5057.032\\\\\n",
       "\\end{tabular}\n"
      ],
      "text/markdown": [
       "\n",
       "A tibble: 3 × 3\n",
       "\n",
       "| Branch &lt;chr&gt; | Revenue &lt;dbl&gt; | Profit &lt;dbl&gt; |\n",
       "|---|---|---|\n",
       "| C | 110568.7 | 5265.176 |\n",
       "| A | 106200.4 | 5057.160 |\n",
       "| B | 106197.7 | 5057.032 |\n",
       "\n"
      ],
      "text/plain": [
       "  Branch Revenue  Profit  \n",
       "1 C      110568.7 5265.176\n",
       "2 A      106200.4 5057.160\n",
       "3 B      106197.7 5057.032"
      ]
     },
     "metadata": {},
     "output_type": "display_data"
    }
   ],
   "source": [
    "Branch_Revenue_Profit<-Super%>% group_by(Branch)%>%\n",
    "summarise(Revenue= sum(Revenue),Profit=sum(`Gross Profit`))%>%arrange(-Revenue)\n",
    "View(Branch_Revenue_Profit)"
   ]
  },
  {
   "cell_type": "markdown",
   "id": "2062130c",
   "metadata": {
    "papermill": {
     "duration": 0.00835,
     "end_time": "2024-02-09T13:05:43.818680",
     "exception": false,
     "start_time": "2024-02-09T13:05:43.810330",
     "status": "completed"
    },
    "tags": []
   },
   "source": [
    "**Revenue and Profit By product line**\n",
    "\n",
    "Food and Beverages generated the highest while Health and Beauty got the lowest "
   ]
  },
  {
   "cell_type": "code",
   "execution_count": 6,
   "id": "b6a9cf20",
   "metadata": {
    "execution": {
     "iopub.execute_input": "2024-02-09T13:05:43.838609Z",
     "iopub.status.busy": "2024-02-09T13:05:43.836829Z",
     "iopub.status.idle": "2024-02-09T13:05:43.881350Z",
     "shell.execute_reply": "2024-02-09T13:05:43.879120Z"
    },
    "papermill": {
     "duration": 0.058112,
     "end_time": "2024-02-09T13:05:43.884839",
     "exception": false,
     "start_time": "2024-02-09T13:05:43.826727",
     "status": "completed"
    },
    "tags": []
   },
   "outputs": [
    {
     "data": {
      "text/html": [
       "<table class=\"dataframe\">\n",
       "<caption>A tibble: 6 × 3</caption>\n",
       "<thead>\n",
       "\t<tr><th scope=col>Product line</th><th scope=col>Revenue</th><th scope=col>Profit</th></tr>\n",
       "\t<tr><th scope=col>&lt;chr&gt;</th><th scope=col>&lt;dbl&gt;</th><th scope=col>&lt;dbl&gt;</th></tr>\n",
       "</thead>\n",
       "<tbody>\n",
       "\t<tr><td>Food and beverages    </td><td>56144.84</td><td>2673.564</td></tr>\n",
       "\t<tr><td>Sports and travel     </td><td>55122.83</td><td>2624.896</td></tr>\n",
       "\t<tr><td>Electronic accessories</td><td>54337.53</td><td>2587.501</td></tr>\n",
       "\t<tr><td>Fashion accessories   </td><td>54305.89</td><td>2585.995</td></tr>\n",
       "\t<tr><td>Home and lifestyle    </td><td>53861.91</td><td>2564.853</td></tr>\n",
       "\t<tr><td>Health and beauty     </td><td>49193.74</td><td>2342.559</td></tr>\n",
       "</tbody>\n",
       "</table>\n"
      ],
      "text/latex": [
       "A tibble: 6 × 3\n",
       "\\begin{tabular}{lll}\n",
       " Product line & Revenue & Profit\\\\\n",
       " <chr> & <dbl> & <dbl>\\\\\n",
       "\\hline\n",
       "\t Food and beverages     & 56144.84 & 2673.564\\\\\n",
       "\t Sports and travel      & 55122.83 & 2624.896\\\\\n",
       "\t Electronic accessories & 54337.53 & 2587.501\\\\\n",
       "\t Fashion accessories    & 54305.89 & 2585.995\\\\\n",
       "\t Home and lifestyle     & 53861.91 & 2564.853\\\\\n",
       "\t Health and beauty      & 49193.74 & 2342.559\\\\\n",
       "\\end{tabular}\n"
      ],
      "text/markdown": [
       "\n",
       "A tibble: 6 × 3\n",
       "\n",
       "| Product line &lt;chr&gt; | Revenue &lt;dbl&gt; | Profit &lt;dbl&gt; |\n",
       "|---|---|---|\n",
       "| Food and beverages     | 56144.84 | 2673.564 |\n",
       "| Sports and travel      | 55122.83 | 2624.896 |\n",
       "| Electronic accessories | 54337.53 | 2587.501 |\n",
       "| Fashion accessories    | 54305.89 | 2585.995 |\n",
       "| Home and lifestyle     | 53861.91 | 2564.853 |\n",
       "| Health and beauty      | 49193.74 | 2342.559 |\n",
       "\n"
      ],
      "text/plain": [
       "  Product line           Revenue  Profit  \n",
       "1 Food and beverages     56144.84 2673.564\n",
       "2 Sports and travel      55122.83 2624.896\n",
       "3 Electronic accessories 54337.53 2587.501\n",
       "4 Fashion accessories    54305.89 2585.995\n",
       "5 Home and lifestyle     53861.91 2564.853\n",
       "6 Health and beauty      49193.74 2342.559"
      ]
     },
     "metadata": {},
     "output_type": "display_data"
    }
   ],
   "source": [
    "Product_Line_Revenue_Profit<-Super%>% group_by(`Product line`)%>%\n",
    "summarise(Revenue= sum(Revenue), Profit=sum(`Gross Profit`))%>%arrange(-Revenue)\n",
    "View(Product_Line_Revenue_Profit)"
   ]
  },
  {
   "cell_type": "markdown",
   "id": "b4d1a259",
   "metadata": {
    "papermill": {
     "duration": 0.008997,
     "end_time": "2024-02-09T13:05:43.903101",
     "exception": false,
     "start_time": "2024-02-09T13:05:43.894104",
     "status": "completed"
    },
    "tags": []
   },
   "source": [
    "**Payment Method Revenue**\n",
    "\n",
    "Cash Payment"
   ]
  },
  {
   "cell_type": "code",
   "execution_count": 7,
   "id": "7075b8c7",
   "metadata": {
    "execution": {
     "iopub.execute_input": "2024-02-09T13:05:43.923447Z",
     "iopub.status.busy": "2024-02-09T13:05:43.921722Z",
     "iopub.status.idle": "2024-02-09T13:05:43.963910Z",
     "shell.execute_reply": "2024-02-09T13:05:43.961705Z"
    },
    "papermill": {
     "duration": 0.056143,
     "end_time": "2024-02-09T13:05:43.967425",
     "exception": false,
     "start_time": "2024-02-09T13:05:43.911282",
     "status": "completed"
    },
    "tags": []
   },
   "outputs": [
    {
     "data": {
      "text/html": [
       "<table class=\"dataframe\">\n",
       "<caption>A tibble: 3 × 2</caption>\n",
       "<thead>\n",
       "\t<tr><th scope=col>Payment Method</th><th scope=col>Revenue</th></tr>\n",
       "\t<tr><th scope=col>&lt;chr&gt;</th><th scope=col>&lt;dbl&gt;</th></tr>\n",
       "</thead>\n",
       "<tbody>\n",
       "\t<tr><td>Cash       </td><td>112206.6</td></tr>\n",
       "\t<tr><td>Ewallet    </td><td>109993.1</td></tr>\n",
       "\t<tr><td>Credit card</td><td>100767.1</td></tr>\n",
       "</tbody>\n",
       "</table>\n"
      ],
      "text/latex": [
       "A tibble: 3 × 2\n",
       "\\begin{tabular}{ll}\n",
       " Payment Method & Revenue\\\\\n",
       " <chr> & <dbl>\\\\\n",
       "\\hline\n",
       "\t Cash        & 112206.6\\\\\n",
       "\t Ewallet     & 109993.1\\\\\n",
       "\t Credit card & 100767.1\\\\\n",
       "\\end{tabular}\n"
      ],
      "text/markdown": [
       "\n",
       "A tibble: 3 × 2\n",
       "\n",
       "| Payment Method &lt;chr&gt; | Revenue &lt;dbl&gt; |\n",
       "|---|---|\n",
       "| Cash        | 112206.6 |\n",
       "| Ewallet     | 109993.1 |\n",
       "| Credit card | 100767.1 |\n",
       "\n"
      ],
      "text/plain": [
       "  Payment Method Revenue \n",
       "1 Cash           112206.6\n",
       "2 Ewallet        109993.1\n",
       "3 Credit card    100767.1"
      ]
     },
     "metadata": {},
     "output_type": "display_data"
    }
   ],
   "source": [
    "Payment_Method_Revenue<-Super%>% group_by(`Payment Method`)%>%\n",
    "summarise(Revenue= sum(Revenue))%>%arrange(-Revenue)\n",
    "View(Payment_Method_Revenue)"
   ]
  },
  {
   "cell_type": "markdown",
   "id": "96073ac8",
   "metadata": {
    "papermill": {
     "duration": 0.009251,
     "end_time": "2024-02-09T13:05:43.985503",
     "exception": false,
     "start_time": "2024-02-09T13:05:43.976252",
     "status": "completed"
    },
    "tags": []
   },
   "source": [
    "**Customer type Revenue**\n",
    "\n",
    "Member"
   ]
  },
  {
   "cell_type": "code",
   "execution_count": 8,
   "id": "b0dba228",
   "metadata": {
    "execution": {
     "iopub.execute_input": "2024-02-09T13:05:44.007720Z",
     "iopub.status.busy": "2024-02-09T13:05:44.006001Z",
     "iopub.status.idle": "2024-02-09T13:05:44.045422Z",
     "shell.execute_reply": "2024-02-09T13:05:44.043395Z"
    },
    "papermill": {
     "duration": 0.053226,
     "end_time": "2024-02-09T13:05:44.048254",
     "exception": false,
     "start_time": "2024-02-09T13:05:43.995028",
     "status": "completed"
    },
    "tags": []
   },
   "outputs": [
    {
     "data": {
      "text/html": [
       "<table class=\"dataframe\">\n",
       "<caption>A tibble: 2 × 2</caption>\n",
       "<thead>\n",
       "\t<tr><th scope=col>Customer type</th><th scope=col>Revenue</th></tr>\n",
       "\t<tr><th scope=col>&lt;chr&gt;</th><th scope=col>&lt;dbl&gt;</th></tr>\n",
       "</thead>\n",
       "<tbody>\n",
       "\t<tr><td>Member</td><td>164223.4</td></tr>\n",
       "\t<tr><td>Normal</td><td>158743.3</td></tr>\n",
       "</tbody>\n",
       "</table>\n"
      ],
      "text/latex": [
       "A tibble: 2 × 2\n",
       "\\begin{tabular}{ll}\n",
       " Customer type & Revenue\\\\\n",
       " <chr> & <dbl>\\\\\n",
       "\\hline\n",
       "\t Member & 164223.4\\\\\n",
       "\t Normal & 158743.3\\\\\n",
       "\\end{tabular}\n"
      ],
      "text/markdown": [
       "\n",
       "A tibble: 2 × 2\n",
       "\n",
       "| Customer type &lt;chr&gt; | Revenue &lt;dbl&gt; |\n",
       "|---|---|\n",
       "| Member | 164223.4 |\n",
       "| Normal | 158743.3 |\n",
       "\n"
      ],
      "text/plain": [
       "  Customer type Revenue \n",
       "1 Member        164223.4\n",
       "2 Normal        158743.3"
      ]
     },
     "metadata": {},
     "output_type": "display_data"
    }
   ],
   "source": [
    "Customer_Type_Revenue<-Super%>% group_by(`Customer type`)%>%\n",
    "summarise(Revenue= sum(Revenue))%>%arrange(-Revenue)\n",
    "View(Customer_Type_Revenue)"
   ]
  },
  {
   "cell_type": "markdown",
   "id": "62ec3330",
   "metadata": {
    "papermill": {
     "duration": 0.008881,
     "end_time": "2024-02-09T13:05:44.067117",
     "exception": false,
     "start_time": "2024-02-09T13:05:44.058236",
     "status": "completed"
    },
    "tags": []
   },
   "source": [
    "**Revenue and Profit By Gender**\n",
    "\n",
    "Female bought more goods than male"
   ]
  },
  {
   "cell_type": "code",
   "execution_count": 9,
   "id": "7452cd77",
   "metadata": {
    "execution": {
     "iopub.execute_input": "2024-02-09T13:05:44.089335Z",
     "iopub.status.busy": "2024-02-09T13:05:44.087548Z",
     "iopub.status.idle": "2024-02-09T13:05:44.138217Z",
     "shell.execute_reply": "2024-02-09T13:05:44.135944Z"
    },
    "papermill": {
     "duration": 0.065437,
     "end_time": "2024-02-09T13:05:44.141756",
     "exception": false,
     "start_time": "2024-02-09T13:05:44.076319",
     "status": "completed"
    },
    "tags": []
   },
   "outputs": [
    {
     "data": {
      "text/html": [
       "<table class=\"dataframe\">\n",
       "<caption>A tibble: 2 × 3</caption>\n",
       "<thead>\n",
       "\t<tr><th scope=col>Gender</th><th scope=col>Revenue</th><th scope=col>Profit</th></tr>\n",
       "\t<tr><th scope=col>&lt;chr&gt;</th><th scope=col>&lt;dbl&gt;</th><th scope=col>&lt;dbl&gt;</th></tr>\n",
       "</thead>\n",
       "<tbody>\n",
       "\t<tr><td>Female</td><td>167882.9</td><td>7994.425</td></tr>\n",
       "\t<tr><td>Male  </td><td>155083.8</td><td>7384.944</td></tr>\n",
       "</tbody>\n",
       "</table>\n"
      ],
      "text/latex": [
       "A tibble: 2 × 3\n",
       "\\begin{tabular}{lll}\n",
       " Gender & Revenue & Profit\\\\\n",
       " <chr> & <dbl> & <dbl>\\\\\n",
       "\\hline\n",
       "\t Female & 167882.9 & 7994.425\\\\\n",
       "\t Male   & 155083.8 & 7384.944\\\\\n",
       "\\end{tabular}\n"
      ],
      "text/markdown": [
       "\n",
       "A tibble: 2 × 3\n",
       "\n",
       "| Gender &lt;chr&gt; | Revenue &lt;dbl&gt; | Profit &lt;dbl&gt; |\n",
       "|---|---|---|\n",
       "| Female | 167882.9 | 7994.425 |\n",
       "| Male   | 155083.8 | 7384.944 |\n",
       "\n"
      ],
      "text/plain": [
       "  Gender Revenue  Profit  \n",
       "1 Female 167882.9 7994.425\n",
       "2 Male   155083.8 7384.944"
      ]
     },
     "metadata": {},
     "output_type": "display_data"
    }
   ],
   "source": [
    "Gender_Revenue_Profit<-Super%>% group_by(Gender)%>%\n",
    "summarise(Revenue= sum(Revenue),Profit=sum(`Gross Profit`))%>%arrange(-Revenue)\n",
    "View(Gender_Revenue_Profit)"
   ]
  },
  {
   "cell_type": "markdown",
   "id": "c50a3b50",
   "metadata": {
    "papermill": {
     "duration": 0.009638,
     "end_time": "2024-02-09T13:05:44.160378",
     "exception": false,
     "start_time": "2024-02-09T13:05:44.150740",
     "status": "completed"
    },
    "tags": []
   },
   "source": [
    "**Quantity of Product line Sold**\n",
    "\n",
    "Electronic Accessories were sold more than others."
   ]
  },
  {
   "cell_type": "code",
   "execution_count": 10,
   "id": "58ea10c7",
   "metadata": {
    "execution": {
     "iopub.execute_input": "2024-02-09T13:05:44.182886Z",
     "iopub.status.busy": "2024-02-09T13:05:44.181143Z",
     "iopub.status.idle": "2024-02-09T13:05:44.223712Z",
     "shell.execute_reply": "2024-02-09T13:05:44.221210Z"
    },
    "papermill": {
     "duration": 0.057768,
     "end_time": "2024-02-09T13:05:44.227262",
     "exception": false,
     "start_time": "2024-02-09T13:05:44.169494",
     "status": "completed"
    },
    "tags": []
   },
   "outputs": [
    {
     "data": {
      "text/html": [
       "<table class=\"dataframe\">\n",
       "<caption>A tibble: 6 × 2</caption>\n",
       "<thead>\n",
       "\t<tr><th scope=col>Product line</th><th scope=col>Total_quantity</th></tr>\n",
       "\t<tr><th scope=col>&lt;chr&gt;</th><th scope=col>&lt;dbl&gt;</th></tr>\n",
       "</thead>\n",
       "<tbody>\n",
       "\t<tr><td>Electronic accessories</td><td>971</td></tr>\n",
       "\t<tr><td>Food and beverages    </td><td>952</td></tr>\n",
       "\t<tr><td>Sports and travel     </td><td>920</td></tr>\n",
       "\t<tr><td>Home and lifestyle    </td><td>911</td></tr>\n",
       "\t<tr><td>Fashion accessories   </td><td>902</td></tr>\n",
       "\t<tr><td>Health and beauty     </td><td>854</td></tr>\n",
       "</tbody>\n",
       "</table>\n"
      ],
      "text/latex": [
       "A tibble: 6 × 2\n",
       "\\begin{tabular}{ll}\n",
       " Product line & Total\\_quantity\\\\\n",
       " <chr> & <dbl>\\\\\n",
       "\\hline\n",
       "\t Electronic accessories & 971\\\\\n",
       "\t Food and beverages     & 952\\\\\n",
       "\t Sports and travel      & 920\\\\\n",
       "\t Home and lifestyle     & 911\\\\\n",
       "\t Fashion accessories    & 902\\\\\n",
       "\t Health and beauty      & 854\\\\\n",
       "\\end{tabular}\n"
      ],
      "text/markdown": [
       "\n",
       "A tibble: 6 × 2\n",
       "\n",
       "| Product line &lt;chr&gt; | Total_quantity &lt;dbl&gt; |\n",
       "|---|---|\n",
       "| Electronic accessories | 971 |\n",
       "| Food and beverages     | 952 |\n",
       "| Sports and travel      | 920 |\n",
       "| Home and lifestyle     | 911 |\n",
       "| Fashion accessories    | 902 |\n",
       "| Health and beauty      | 854 |\n",
       "\n"
      ],
      "text/plain": [
       "  Product line           Total_quantity\n",
       "1 Electronic accessories 971           \n",
       "2 Food and beverages     952           \n",
       "3 Sports and travel      920           \n",
       "4 Home and lifestyle     911           \n",
       "5 Fashion accessories    902           \n",
       "6 Health and beauty      854           "
      ]
     },
     "metadata": {},
     "output_type": "display_data"
    }
   ],
   "source": [
    "Product_line_Quantity<-Super%>%group_by(`Product line`)%>%\n",
    "summarise(Total_quantity =sum(Quantity))%>%arrange(-Total_quantity)\n",
    "View(Product_line_Quantity)"
   ]
  },
  {
   "cell_type": "markdown",
   "id": "b2d69e36",
   "metadata": {
    "papermill": {
     "duration": 0.00912,
     "end_time": "2024-02-09T13:05:44.245738",
     "exception": false,
     "start_time": "2024-02-09T13:05:44.236618",
     "status": "completed"
    },
    "tags": []
   },
   "source": [
    "**SUMMARY**\n",
    "\n",
    "Food and Beverages generated the highest revenue for the supermarket while health and beauty Products generated the lowest.\n",
    "\n",
    "Females bought more goods than males from the supermarket.\n",
    "\n",
    "Branch C generated more revenue than other branches.\n",
    "\n",
    "Members bought more goods than non members.\n",
    "\n",
    "Cash Payment was used most for purchase.\n",
    "\n",
    "Electronic accessories sold more product per quantity.\n",
    "\n"
   ]
  },
  {
   "cell_type": "markdown",
   "id": "1bccd1ef",
   "metadata": {
    "papermill": {
     "duration": 0.008992,
     "end_time": "2024-02-09T13:05:44.263949",
     "exception": false,
     "start_time": "2024-02-09T13:05:44.254957",
     "status": "completed"
    },
    "tags": []
   },
   "source": [
    "**RECOMMENDATIONS**\n",
    "\n",
    "Stickers or adverts/Promotions should be made to promote health and beauty products\n",
    "\n",
    "more products like gaming systems should be added to promote male patronage.\n",
    "\n",
    "Branch A and B should increase customer care service.\n",
    "\n",
    "members should be given special discount to encourage non members register as members.\n",
    "\n",
    "\n",
    "\n"
   ]
  }
 ],
 "metadata": {
  "kaggle": {
   "accelerator": "none",
   "dataSources": [
    {
     "datasetId": 3734609,
     "sourceId": 6466202,
     "sourceType": "datasetVersion"
    }
   ],
   "dockerImageVersionId": 30530,
   "isGpuEnabled": false,
   "isInternetEnabled": false,
   "language": "r",
   "sourceType": "notebook"
  },
  "kernelspec": {
   "display_name": "R",
   "language": "R",
   "name": "ir"
  },
  "language_info": {
   "codemirror_mode": "r",
   "file_extension": ".r",
   "mimetype": "text/x-r-source",
   "name": "R",
   "pygments_lexer": "r",
   "version": "4.0.5"
  },
  "papermill": {
   "default_parameters": {},
   "duration": 6.61113,
   "end_time": "2024-02-09T13:05:44.397503",
   "environment_variables": {},
   "exception": null,
   "input_path": "__notebook__.ipynb",
   "output_path": "__notebook__.ipynb",
   "parameters": {},
   "start_time": "2024-02-09T13:05:37.786373",
   "version": "2.4.0"
  }
 },
 "nbformat": 4,
 "nbformat_minor": 5
}
